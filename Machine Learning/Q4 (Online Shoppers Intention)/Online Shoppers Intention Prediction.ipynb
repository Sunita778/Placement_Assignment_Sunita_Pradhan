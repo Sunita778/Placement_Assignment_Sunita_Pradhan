{
 "cells": [
  {
   "cell_type": "markdown",
   "id": "a2e7ebcc",
   "metadata": {},
   "source": [
    "## *Submitted by:* - `Sunita Pradhan`"
   ]
  },
  {
   "cell_type": "code",
   "execution_count": null,
   "id": "35be47e0",
   "metadata": {},
   "outputs": [],
   "source": [
    "#Importing required libraries\n",
    "import pandas as pd\n",
    "import numpy as np\n",
    "import seaborn as sns\n",
    "import matplotlib.pyplot as plt\n",
    "import warnings\n",
    "\n",
    "from sklearn.preprocessing import LabelEncoder\n",
    "from sklearn.impute import KNNImputer\n",
    "# from imblearn.over_sampling import SMOTENC,RandomOverSampler,KMeansSMOTE\n",
    "from sklearn.model_selection import train_test_split\n",
    "from sklearn.svm import SVC\n",
    "from sklearn.linear_model import LogisticRegression\n",
    "from sklearn.neighbors import KNeighborsClassifier\n",
    "from sklearn.tree import DecisionTreeClassifier\n",
    "from sklearn.ensemble import RandomForestClassifier\n",
    "from sklearn.metrics import roc_curve, precision_score, recall_score, f1_score, roc_auc_score\n",
    "from sklearn.metrics import accuracy_score,confusion_matrix,classification_report,roc_curve,auc,RocCurveDisplay\n",
    "from sklearn.model_selection import cross_val_score\n",
    "\n",
    "pd.set_option('display.max_rows', None)\n",
    "pd.set_option('display.max_columns', None)\n",
    "warnings.filterwarnings('ignore')\n",
    "%matplotlib inline"
   ]
  },
  {
   "cell_type": "code",
   "execution_count": 2,
   "id": "c2c844e1",
   "metadata": {},
   "outputs": [],
   "source": [
    "#Reading data\n",
    "data = pd.read_csv('online_shoppers_intention.csv')"
   ]
  },
  {
   "cell_type": "code",
   "execution_count": 3,
   "id": "f96d7c68",
   "metadata": {},
   "outputs": [
    {
     "data": {
      "text/html": [
       "<div>\n",
       "<style scoped>\n",
       "    .dataframe tbody tr th:only-of-type {\n",
       "        vertical-align: middle;\n",
       "    }\n",
       "\n",
       "    .dataframe tbody tr th {\n",
       "        vertical-align: top;\n",
       "    }\n",
       "\n",
       "    .dataframe thead th {\n",
       "        text-align: right;\n",
       "    }\n",
       "</style>\n",
       "<table border=\"1\" class=\"dataframe\">\n",
       "  <thead>\n",
       "    <tr style=\"text-align: right;\">\n",
       "      <th></th>\n",
       "      <th>Administrative</th>\n",
       "      <th>Administrative_Duration</th>\n",
       "      <th>Informational</th>\n",
       "      <th>Informational_Duration</th>\n",
       "      <th>ProductRelated</th>\n",
       "      <th>ProductRelated_Duration</th>\n",
       "      <th>BounceRates</th>\n",
       "      <th>ExitRates</th>\n",
       "      <th>PageValues</th>\n",
       "      <th>SpecialDay</th>\n",
       "      <th>Month</th>\n",
       "      <th>OperatingSystems</th>\n",
       "      <th>Browser</th>\n",
       "      <th>Region</th>\n",
       "      <th>TrafficType</th>\n",
       "      <th>VisitorType</th>\n",
       "      <th>Weekend</th>\n",
       "      <th>Revenue</th>\n",
       "    </tr>\n",
       "  </thead>\n",
       "  <tbody>\n",
       "    <tr>\n",
       "      <th>0</th>\n",
       "      <td>0</td>\n",
       "      <td>0.0</td>\n",
       "      <td>0</td>\n",
       "      <td>0.0</td>\n",
       "      <td>1</td>\n",
       "      <td>0.000000</td>\n",
       "      <td>0.20</td>\n",
       "      <td>0.20</td>\n",
       "      <td>0.0</td>\n",
       "      <td>0.0</td>\n",
       "      <td>Feb</td>\n",
       "      <td>1</td>\n",
       "      <td>1</td>\n",
       "      <td>1</td>\n",
       "      <td>1</td>\n",
       "      <td>Returning_Visitor</td>\n",
       "      <td>False</td>\n",
       "      <td>False</td>\n",
       "    </tr>\n",
       "    <tr>\n",
       "      <th>1</th>\n",
       "      <td>0</td>\n",
       "      <td>0.0</td>\n",
       "      <td>0</td>\n",
       "      <td>0.0</td>\n",
       "      <td>2</td>\n",
       "      <td>64.000000</td>\n",
       "      <td>0.00</td>\n",
       "      <td>0.10</td>\n",
       "      <td>0.0</td>\n",
       "      <td>0.0</td>\n",
       "      <td>Feb</td>\n",
       "      <td>2</td>\n",
       "      <td>2</td>\n",
       "      <td>1</td>\n",
       "      <td>2</td>\n",
       "      <td>Returning_Visitor</td>\n",
       "      <td>False</td>\n",
       "      <td>False</td>\n",
       "    </tr>\n",
       "    <tr>\n",
       "      <th>2</th>\n",
       "      <td>0</td>\n",
       "      <td>0.0</td>\n",
       "      <td>0</td>\n",
       "      <td>0.0</td>\n",
       "      <td>1</td>\n",
       "      <td>0.000000</td>\n",
       "      <td>0.20</td>\n",
       "      <td>0.20</td>\n",
       "      <td>0.0</td>\n",
       "      <td>0.0</td>\n",
       "      <td>Feb</td>\n",
       "      <td>4</td>\n",
       "      <td>1</td>\n",
       "      <td>9</td>\n",
       "      <td>3</td>\n",
       "      <td>Returning_Visitor</td>\n",
       "      <td>False</td>\n",
       "      <td>False</td>\n",
       "    </tr>\n",
       "    <tr>\n",
       "      <th>3</th>\n",
       "      <td>0</td>\n",
       "      <td>0.0</td>\n",
       "      <td>0</td>\n",
       "      <td>0.0</td>\n",
       "      <td>2</td>\n",
       "      <td>2.666667</td>\n",
       "      <td>0.05</td>\n",
       "      <td>0.14</td>\n",
       "      <td>0.0</td>\n",
       "      <td>0.0</td>\n",
       "      <td>Feb</td>\n",
       "      <td>3</td>\n",
       "      <td>2</td>\n",
       "      <td>2</td>\n",
       "      <td>4</td>\n",
       "      <td>Returning_Visitor</td>\n",
       "      <td>False</td>\n",
       "      <td>False</td>\n",
       "    </tr>\n",
       "    <tr>\n",
       "      <th>4</th>\n",
       "      <td>0</td>\n",
       "      <td>0.0</td>\n",
       "      <td>0</td>\n",
       "      <td>0.0</td>\n",
       "      <td>10</td>\n",
       "      <td>627.500000</td>\n",
       "      <td>0.02</td>\n",
       "      <td>0.05</td>\n",
       "      <td>0.0</td>\n",
       "      <td>0.0</td>\n",
       "      <td>Feb</td>\n",
       "      <td>3</td>\n",
       "      <td>3</td>\n",
       "      <td>1</td>\n",
       "      <td>4</td>\n",
       "      <td>Returning_Visitor</td>\n",
       "      <td>True</td>\n",
       "      <td>False</td>\n",
       "    </tr>\n",
       "  </tbody>\n",
       "</table>\n",
       "</div>"
      ],
      "text/plain": [
       "   Administrative  Administrative_Duration  Informational   \n",
       "0               0                      0.0              0  \\\n",
       "1               0                      0.0              0   \n",
       "2               0                      0.0              0   \n",
       "3               0                      0.0              0   \n",
       "4               0                      0.0              0   \n",
       "\n",
       "   Informational_Duration  ProductRelated  ProductRelated_Duration   \n",
       "0                     0.0               1                 0.000000  \\\n",
       "1                     0.0               2                64.000000   \n",
       "2                     0.0               1                 0.000000   \n",
       "3                     0.0               2                 2.666667   \n",
       "4                     0.0              10               627.500000   \n",
       "\n",
       "   BounceRates  ExitRates  PageValues  SpecialDay Month  OperatingSystems   \n",
       "0         0.20       0.20         0.0         0.0   Feb                 1  \\\n",
       "1         0.00       0.10         0.0         0.0   Feb                 2   \n",
       "2         0.20       0.20         0.0         0.0   Feb                 4   \n",
       "3         0.05       0.14         0.0         0.0   Feb                 3   \n",
       "4         0.02       0.05         0.0         0.0   Feb                 3   \n",
       "\n",
       "   Browser  Region  TrafficType        VisitorType  Weekend  Revenue  \n",
       "0        1       1            1  Returning_Visitor    False    False  \n",
       "1        2       1            2  Returning_Visitor    False    False  \n",
       "2        1       9            3  Returning_Visitor    False    False  \n",
       "3        2       2            4  Returning_Visitor    False    False  \n",
       "4        3       1            4  Returning_Visitor     True    False  "
      ]
     },
     "execution_count": 3,
     "metadata": {},
     "output_type": "execute_result"
    }
   ],
   "source": [
    "#Fatchiing 1st 5 rows of data\n",
    "data.head()"
   ]
  },
  {
   "cell_type": "code",
   "execution_count": 4,
   "id": "b44059c6",
   "metadata": {},
   "outputs": [
    {
     "data": {
      "text/plain": [
       "(12330, 18)"
      ]
     },
     "execution_count": 4,
     "metadata": {},
     "output_type": "execute_result"
    }
   ],
   "source": [
    "data.shape"
   ]
  },
  {
   "cell_type": "code",
   "execution_count": 5,
   "id": "4244a1a6",
   "metadata": {},
   "outputs": [
    {
     "name": "stdout",
     "output_type": "stream",
     "text": [
      "<class 'pandas.core.frame.DataFrame'>\n",
      "RangeIndex: 12330 entries, 0 to 12329\n",
      "Data columns (total 18 columns):\n",
      " #   Column                   Non-Null Count  Dtype  \n",
      "---  ------                   --------------  -----  \n",
      " 0   Administrative           12330 non-null  int64  \n",
      " 1   Administrative_Duration  12330 non-null  float64\n",
      " 2   Informational            12330 non-null  int64  \n",
      " 3   Informational_Duration   12330 non-null  float64\n",
      " 4   ProductRelated           12330 non-null  int64  \n",
      " 5   ProductRelated_Duration  12330 non-null  float64\n",
      " 6   BounceRates              12330 non-null  float64\n",
      " 7   ExitRates                12330 non-null  float64\n",
      " 8   PageValues               12330 non-null  float64\n",
      " 9   SpecialDay               12330 non-null  float64\n",
      " 10  Month                    12330 non-null  object \n",
      " 11  OperatingSystems         12330 non-null  int64  \n",
      " 12  Browser                  12330 non-null  int64  \n",
      " 13  Region                   12330 non-null  int64  \n",
      " 14  TrafficType              12330 non-null  int64  \n",
      " 15  VisitorType              12330 non-null  object \n",
      " 16  Weekend                  12330 non-null  bool   \n",
      " 17  Revenue                  12330 non-null  bool   \n",
      "dtypes: bool(2), float64(7), int64(7), object(2)\n",
      "memory usage: 1.5+ MB\n"
     ]
    }
   ],
   "source": [
    "#Brief info about data\n",
    "data.info()"
   ]
  },
  {
   "cell_type": "markdown",
   "id": "e024bc47",
   "metadata": {},
   "source": [
    "### Missing value detection"
   ]
  },
  {
   "cell_type": "code",
   "execution_count": 6,
   "id": "2e9f0dfb",
   "metadata": {
    "scrolled": true
   },
   "outputs": [
    {
     "data": {
      "text/plain": [
       "Administrative             0\n",
       "Administrative_Duration    0\n",
       "Informational              0\n",
       "Informational_Duration     0\n",
       "ProductRelated             0\n",
       "ProductRelated_Duration    0\n",
       "BounceRates                0\n",
       "ExitRates                  0\n",
       "PageValues                 0\n",
       "SpecialDay                 0\n",
       "Month                      0\n",
       "OperatingSystems           0\n",
       "Browser                    0\n",
       "Region                     0\n",
       "TrafficType                0\n",
       "VisitorType                0\n",
       "Weekend                    0\n",
       "Revenue                    0\n",
       "dtype: int64"
      ]
     },
     "execution_count": 6,
     "metadata": {},
     "output_type": "execute_result"
    }
   ],
   "source": [
    "data.isna().sum()"
   ]
  },
  {
   "cell_type": "code",
   "execution_count": 7,
   "id": "4a6ca995",
   "metadata": {},
   "outputs": [
    {
     "data": {
      "text/plain": [
       "125"
      ]
     },
     "execution_count": 7,
     "metadata": {},
     "output_type": "execute_result"
    }
   ],
   "source": [
    "#Checking if there any duplicated value\n",
    "data.duplicated().sum()"
   ]
  },
  {
   "cell_type": "markdown",
   "id": "6bec749d",
   "metadata": {},
   "source": [
    "There is 1125 duplicate values."
   ]
  },
  {
   "cell_type": "code",
   "execution_count": 8,
   "id": "d987443b",
   "metadata": {},
   "outputs": [],
   "source": [
    "#Creating a copy of original dataframe\n",
    "df = data.copy()"
   ]
  },
  {
   "cell_type": "code",
   "execution_count": 9,
   "id": "f3298232",
   "metadata": {},
   "outputs": [],
   "source": [
    "# Remove duplicates in-place\n",
    "df.drop_duplicates(inplace=True)"
   ]
  },
  {
   "cell_type": "code",
   "execution_count": 10,
   "id": "84cccec1",
   "metadata": {},
   "outputs": [
    {
     "data": {
      "text/plain": [
       "0"
      ]
     },
     "execution_count": 10,
     "metadata": {},
     "output_type": "execute_result"
    }
   ],
   "source": [
    "df.duplicated().sum()"
   ]
  },
  {
   "cell_type": "code",
   "execution_count": 11,
   "id": "07a83089",
   "metadata": {},
   "outputs": [],
   "source": [
    "#all numerical columns\n",
    "numerical_col = ['Administrative',\n",
    " 'Administrative_Duration',\n",
    " 'Informational',\n",
    " 'Informational_Duration',\n",
    " 'ProductRelated',\n",
    " 'ProductRelated_Duration',\n",
    " 'BounceRates',\n",
    " 'ExitRates',\n",
    " 'PageValues',\n",
    " 'SpecialDay',\n",
    " 'OperatingSystems',\n",
    " 'Browser',\n",
    " 'Region',\n",
    " 'TrafficType']"
   ]
  },
  {
   "cell_type": "code",
   "execution_count": 12,
   "id": "e09935da",
   "metadata": {},
   "outputs": [
    {
     "data": {
      "text/plain": [
       "['Month', 'VisitorType']"
      ]
     },
     "execution_count": 12,
     "metadata": {},
     "output_type": "execute_result"
    }
   ],
   "source": [
    "#all Categorical columns\n",
    "categorical_col = [fea for fea in df.columns if df[fea].dtype == 'O']\n",
    "categorical_col"
   ]
  },
  {
   "cell_type": "markdown",
   "id": "78b426f1",
   "metadata": {},
   "source": [
    "### Outliers Detection"
   ]
  },
  {
   "cell_type": "code",
   "execution_count": 13,
   "id": "a933c2c3",
   "metadata": {},
   "outputs": [
    {
     "data": {
      "image/png": "[encoded data removed]",
      "text/plain": [
       "<Figure size 1440x2160 with 14 Axes>"
      ]
     },
     "metadata": {
      "needs_background": "light"
     },
     "output_type": "display_data"
    }
   ],
   "source": [
    "## Plot boxplots for each numerical column\n",
    "\n",
    "fig = plt.figure(figsize=[20,30])\n",
    "for i ,col in enumerate(numerical_col):  \n",
    "    ax1 = fig.add_subplot(7,2, i+1);\n",
    "    ax1 = sns.boxplot(data = df, x=col)"
   ]
  },
  {
   "cell_type": "markdown",
   "id": "d01b096f",
   "metadata": {},
   "source": [
    "There are lots of outliers preesnt. I need to handle these for model building."
   ]
  },
  {
   "cell_type": "code",
   "execution_count": 14,
   "id": "8c038f68",
   "metadata": {},
   "outputs": [
    {
     "data": {
      "text/plain": [
       "Administrative               int64\n",
       "Administrative_Duration    float64\n",
       "Informational                int64\n",
       "Informational_Duration     float64\n",
       "ProductRelated               int64\n",
       "ProductRelated_Duration    float64\n",
       "BounceRates                float64\n",
       "ExitRates                  float64\n",
       "PageValues                 float64\n",
       "SpecialDay                 float64\n",
       "Month                       object\n",
       "OperatingSystems             int64\n",
       "Browser                      int64\n",
       "Region                       int64\n",
       "TrafficType                  int64\n",
       "VisitorType                 object\n",
       "Weekend                       bool\n",
       "Revenue                       bool\n",
       "dtype: object"
      ]
     },
     "execution_count": 14,
     "metadata": {},
     "output_type": "execute_result"
    }
   ],
   "source": [
    "df.dtypes"
   ]
  },
  {
   "cell_type": "code",
   "execution_count": 15,
   "id": "00de376a",
   "metadata": {},
   "outputs": [
    {
     "name": "stdout",
     "output_type": "stream",
     "text": [
      "Administrative [ 0  1  2  4 12  3 10  6  5  9  8 16 13 11  7 18 14 17 19 15 24 22 21 20\n",
      " 23 27 26]\n",
      "Administrative_Duration [  0.         53.         64.6       ... 167.9107143 305.125\n",
      " 150.3571429]\n",
      "Informational [ 0  1  2  4 16  5  3 14  6 12  7  9 10  8 11 24 13]\n",
      "Informational_Duration [  0.   120.    16.   ... 547.75 368.25 211.25]\n",
      "ProductRelated [  1   2  10  19   0   3  16   7   6  23  13  20   8   5  32   4  45  14\n",
      "  52   9  46  15  22  11  12  36  42  27  90  18  38  17 128  25  30  21\n",
      "  51  26  28  31  24  50  96  49  68  98  67  55  35  37  29  34  71  63\n",
      "  87  40  33  54  64  75  39 111  81  61  47  44  88 149  41  79  66  43\n",
      " 258  80  62  83 173  48  58  57  56  69  82  59 109 287  53  84  78 137\n",
      " 113  89  65  60 104 129  77  74  93  76  72 194 140 110 132 115  73 328\n",
      " 160  86 150  95 130 151 117 124 127 125 116 105  92 157 154 220 187 112\n",
      " 131 159  94 204 142 206 102 313 145  85  97 198 181 126 106 101 108 119\n",
      "  70 122  91 276 100 291 114 172 217 141 133 156 136 180 135 195  99 362\n",
      " 179 118 175 148 440 103 178 184 705 134 176 146 189 120 193 222 121 107\n",
      " 305 199 439 223 230 280 377 310 158 486 153 139 182 221 229 216 170 202\n",
      " 346 274 240 162 123 211 227 168 161 429 686 167 518 256 255 358 213 191\n",
      " 282 155 138 246 237 271 171 414 219 262 409 243 241 197 449 143 188 391\n",
      " 238 152 165 293 174 584 164 311 340 250 200 385 292 232 251 517 225 169\n",
      " 309 235 501 224 275 318 144 397 343 245 186 337 351 166 349 423 359 163\n",
      " 147 264 312 226 324 266 260 338 272 534 470 207 218 326 190 304 205 233\n",
      " 401 177 330 286 247 357 315 231 339 283 374 248 279 281 234 261 290 336\n",
      " 378 254 183 210 192]\n",
      "ProductRelated_Duration [  0.          64.           2.66666667 ... 465.75       184.25\n",
      " 346.        ]\n",
      "BounceRates [0.2        0.         0.05       ... 0.00382775 0.00086956 0.01114899]\n",
      "ExitRates [0.2        0.1        0.14       ... 0.01276133 0.01395349 0.02903061]\n",
      "PageValues [ 0.         54.17976426 19.44707913 ... 78.81172527  3.68540082\n",
      " 12.24171745]\n",
      "SpecialDay [0.  0.4 0.8 1.  0.2 0.6]\n",
      "Month ['Feb' 'Mar' 'May' 'Oct' 'June' 'Jul' 'Aug' 'Nov' 'Sep' 'Dec']\n",
      "OperatingSystems [1 2 4 3 7 6 8 5]\n",
      "Browser [ 1  2  3  4  5  6  7 10  8  9 12 13 11]\n",
      "Region [1 9 2 3 4 5 6 7 8]\n",
      "TrafficType [ 1  2  3  4  5  6  7  8  9 10 11 12 13 14 15 18 19 16 17 20]\n",
      "VisitorType ['Returning_Visitor' 'New_Visitor' 'Other']\n",
      "Weekend [False  True]\n",
      "Revenue [False  True]\n"
     ]
    }
   ],
   "source": [
    "for col in df.columns:\n",
    "    print(col, df[col].unique())"
   ]
  },
  {
   "cell_type": "code",
   "execution_count": 16,
   "id": "2d22b0f9",
   "metadata": {},
   "outputs": [
    {
     "data": {
      "text/plain": [
       "<Axes: xlabel='Revenue', ylabel='count'>"
      ]
     },
     "execution_count": 16,
     "metadata": {},
     "output_type": "execute_result"
    },
    {
     "data": {
      "image/png": "[encoded data removed]",
      "text/plain": [
       "<Figure size 576x360 with 1 Axes>"
      ]
     },
     "metadata": {
      "needs_background": "light"
     },
     "output_type": "display_data"
    }
   ],
   "source": [
    "plt.figure(figsize=(8, 5))\n",
    "sns.countplot(data=df, x='Revenue', hue='Weekend',palette='Blues')"
   ]
  },
  {
   "cell_type": "code",
   "execution_count": 17,
   "id": "92718b16",
   "metadata": {},
   "outputs": [],
   "source": [
    "# <!-- monthly = df['Month'].value_counts()\n",
    "\n",
    "# sns.countplot(df['Month'], order=monthly.index)\n",
    "# plt.title('Entries per Month', fontsize=15)\n",
    "# xval = -.42\n",
    "# plt.ylim(0,4000)\n",
    "\n",
    "# for index, value in monthly.items():\n",
    "#     plt.text(x=xval, y=value+50, s=str(value))\n",
    "#     xval += 1.02 -->"
   ]
  },
  {
   "cell_type": "code",
   "execution_count": 18,
   "id": "5da402e6",
   "metadata": {},
   "outputs": [
    {
     "data": {
      "text/plain": [
       "<Axes: xlabel='Month', ylabel='count'>"
      ]
     },
     "execution_count": 18,
     "metadata": {},
     "output_type": "execute_result"
    },
    {
     "data": {
      "image/png": "[encoded data removed]",
      "text/plain": [
       "<Figure size 1080x576 with 1 Axes>"
      ]
     },
     "metadata": {
      "needs_background": "light"
     },
     "output_type": "display_data"
    }
   ],
   "source": [
    "plt.figure(figsize=(15, 8))\n",
    "sns.countplot(data=df, x='Month', hue='Revenue',palette='rocket')\n",
    "#Revenue 0 for False and 1 for True"
   ]
  },
  {
   "cell_type": "code",
   "execution_count": 19,
   "id": "e57fae6b",
   "metadata": {
    "scrolled": false
   },
   "outputs": [
    {
     "data": {
      "text/plain": [
       "<Axes: xlabel='VisitorType', ylabel='count'>"
      ]
     },
     "execution_count": 19,
     "metadata": {},
     "output_type": "execute_result"
    },
    {
     "data": {
      "image/png": "[encoded data removed]",
      "text/plain": [
       "<Figure size 720x432 with 1 Axes>"
      ]
     },
     "metadata": {
      "needs_background": "light"
     },
     "output_type": "display_data"
    }
   ],
   "source": [
    "plt.figure(figsize=(10, 6))\n",
    "sns.countplot(data=df, x='VisitorType', hue='Revenue',palette='viridis')"
   ]
  },
  {
   "cell_type": "code",
   "execution_count": 20,
   "id": "f15298ef",
   "metadata": {},
   "outputs": [
    {
     "data": {
      "text/plain": [
       "<Axes: xlabel='Revenue', ylabel='count'>"
      ]
     },
     "execution_count": 20,
     "metadata": {},
     "output_type": "execute_result"
    },
    {
     "data": {
      "image/png": "[encoded data removed]",
      "text/plain": [
       "<Figure size 432x288 with 1 Axes>"
      ]
     },
     "metadata": {
      "needs_background": "light"
     },
     "output_type": "display_data"
    }
   ],
   "source": [
    "sns.countplot(data=df,x='Revenue', palette='magma')"
   ]
  },
  {
   "cell_type": "code",
   "execution_count": 21,
   "id": "a3263578",
   "metadata": {
    "scrolled": true
   },
   "outputs": [
    {
     "data": {
      "text/plain": [
       "<Axes: xlabel='Weekend', ylabel='count'>"
      ]
     },
     "execution_count": 21,
     "metadata": {},
     "output_type": "execute_result"
    },
    {
     "data": {
      "image/png": "[encoded data removed]",
      "text/plain": [
       "<Figure size 432x288 with 1 Axes>"
      ]
     },
     "metadata": {
      "needs_background": "light"
     },
     "output_type": "display_data"
    }
   ],
   "source": [
    "sns.countplot(data=df,x='Weekend')"
   ]
  },
  {
   "cell_type": "markdown",
   "id": "9090f293",
   "metadata": {},
   "source": []
  },
  {
   "cell_type": "markdown",
   "id": "f297293c",
   "metadata": {},
   "source": [
    "##### Weekend feture is the target feture but it is imbalaced."
   ]
  },
  {
   "cell_type": "markdown",
   "id": "ed705aaa",
   "metadata": {},
   "source": [
    "### Transformation categorical data into numerical"
   ]
  },
  {
   "cell_type": "code",
   "execution_count": 22,
   "id": "a60146b0",
   "metadata": {},
   "outputs": [],
   "source": [
    "#Converting all categorical fetures into numerical by labelencoding\n",
    "\n",
    "col_for_encode = ['Month','VisitorType','Weekend', 'Revenue']\n",
    "lblEn = LabelEncoder()\n",
    "\n",
    "for col in col_for_encode:\n",
    "    df[col] = lblEn.fit_transform(df[col])"
   ]
  },
  {
   "cell_type": "markdown",
   "id": "85faa50c",
   "metadata": {},
   "source": [
    "### Handling Outliers"
   ]
  },
  {
   "cell_type": "code",
   "execution_count": 23,
   "id": "fc4a6235",
   "metadata": {},
   "outputs": [],
   "source": [
    "#Calculate the median\n",
    "# median = df[numerical_col].median()\n",
    "\n",
    "# # Replace outliers with median\n",
    "# df[numerical_col] = np.where((df[numerical_col] < median - 1.5 * (df[numerical_col].quantile(0.75) - df[numerical_col].quantile(0.25))) |\n",
    "#                         (df[numerical_col] > median + 1.5 * (df[numerical_col].quantile(0.75) - df[numerical_col].quantile(0.25))),\n",
    "#                         median, df[numerical_col])"
   ]
  },
  {
   "cell_type": "code",
   "execution_count": 24,
   "id": "62c96865",
   "metadata": {},
   "outputs": [
    {
     "data": {
      "text/plain": [
       "(12205, 18)"
      ]
     },
     "execution_count": 24,
     "metadata": {},
     "output_type": "execute_result"
    }
   ],
   "source": [
    "df.shape"
   ]
  },
  {
   "cell_type": "code",
   "execution_count": 25,
   "id": "013f1f5d",
   "metadata": {},
   "outputs": [],
   "source": [
    "# Calculate IQR for numerical columns\n",
    "# Q1 = df[numerical_col].quantile(0.25)\n",
    "# Q3 = df[numerical_col].quantile(0.75)\n",
    "# IQR = Q3 - Q1\n",
    "\n",
    "# # Remove data points outside the lower and upper bounds\n",
    "# lower_bound = Q1 - 1.5 * IQR\n",
    "# upper_bound = Q3 + 1.5 * IQR\n",
    "# df = df[~((df[numerical_col] < lower_bound) | (df[numerical_col] > upper_bound)).any(axis=1)]"
   ]
  },
  {
   "cell_type": "code",
   "execution_count": 26,
   "id": "5960afea",
   "metadata": {},
   "outputs": [
    {
     "data": {
      "text/plain": [
       "(12205, 18)"
      ]
     },
     "execution_count": 26,
     "metadata": {},
     "output_type": "execute_result"
    }
   ],
   "source": [
    "df.shape"
   ]
  },
  {
   "cell_type": "code",
   "execution_count": 27,
   "id": "e1bb928f",
   "metadata": {},
   "outputs": [],
   "source": [
    "# \n",
    "# X = df.drop('Weekend', axis=1)\n",
    "# Y = df['Weekend']"
   ]
  },
  {
   "cell_type": "code",
   "execution_count": 28,
   "id": "9896f1fb",
   "metadata": {},
   "outputs": [],
   "source": [
    "# X_normalized = (X-X.mean())/X.std()\n"
   ]
  },
  {
   "cell_type": "code",
   "execution_count": 29,
   "id": "e2397f91",
   "metadata": {},
   "outputs": [],
   "source": [
    "# # IQR\n",
    "# # Find Q1, Q3\n",
    "# # 1.\n",
    "# Q1 = np.percentile(X , 25)\n",
    "# Q3 = np.percentile(X , 75)\n",
    "\n",
    "# # 2.\n",
    "# Q1,Q3 = np.percentile(X , [25,75])\n",
    "\n",
    "# # Find IQR, upper limit, lower limit\n",
    "# IQR = Q3 - Q1\n",
    "# ul = Q3+1.5*IQR\n",
    "# ll = Q1-1.5*IQR\n",
    "\n",
    "# # Find outliers\n",
    "# outliers = X[(X > ul) | (X < ll)]"
   ]
  },
  {
   "cell_type": "code",
   "execution_count": 30,
   "id": "9591320d",
   "metadata": {},
   "outputs": [],
   "source": [
    "# We can also count the outliers per column:\n",
    "# outliers.count()"
   ]
  },
  {
   "cell_type": "code",
   "execution_count": 31,
   "id": "1d58e101",
   "metadata": {},
   "outputs": [],
   "source": [
    "# Box plot\n",
    "# variable_list = X.columns\n",
    "# for variable in variable_list:\n",
    "#     fig = plt.figure(figsize=(6,5))\n",
    "#     hypo = np.random.randint(20, 81, size=500)\n",
    "#     plt.boxplot([X[variable], hypo], widths=0.5)\n",
    "#     plt.xticks([1,2],['Our data', 'Hypothetical data'])\n",
    "#     plt.ylabel('Grade')\n",
    "#     plt.title(u'Box plot of {}'.format(variable))\n",
    "#     plt.show()"
   ]
  },
  {
   "cell_type": "code",
   "execution_count": null,
   "id": "0d3e87f8",
   "metadata": {},
   "outputs": [],
   "source": []
  },
  {
   "cell_type": "code",
   "execution_count": null,
   "id": "691abd17",
   "metadata": {},
   "outputs": [],
   "source": []
  },
  {
   "cell_type": "code",
   "execution_count": 32,
   "id": "f9d1a57a",
   "metadata": {},
   "outputs": [],
   "source": [
    "lower_percentile = 5\n",
    "upper_percentile = 95\n",
    "\n",
    "# Calculate lower and upper bounds based on percentiles\n",
    "lower_bound = df[numerical_col].quantile(lower_percentile / 100)\n",
    "upper_bound = df[numerical_col].quantile(upper_percentile / 100)\n",
    "\n",
    "# Replace values below lower percentile with lower bound and values above upper percentile with upper bound\n",
    "df[numerical_col] = np.where(df[numerical_col] < lower_bound, lower_bound, df[numerical_col])\n",
    "df[numerical_col] = np.where(df[numerical_col] > upper_bound, upper_bound, df[numerical_col])"
   ]
  },
  {
   "cell_type": "code",
   "execution_count": 79,
   "id": "4f9cc279",
   "metadata": {},
   "outputs": [
    {
     "ename": "ValueError",
     "evalue": "Could not interpret input 'Informational'",
     "output_type": "error",
     "traceback": [
      "\u001b[1;31m---------------------------------------------------------------------------\u001b[0m",
      "\u001b[1;31mValueError\u001b[0m                                Traceback (most recent call last)",
      "\u001b[1;32m<ipython-input-79-45bf2bc6a539>\u001b[0m in \u001b[0;36m<module>\u001b[1;34m\u001b[0m\n\u001b[0;32m      3\u001b[0m \u001b[1;32mfor\u001b[0m \u001b[0mi\u001b[0m \u001b[1;33m,\u001b[0m\u001b[0mcol\u001b[0m \u001b[1;32min\u001b[0m \u001b[0menumerate\u001b[0m\u001b[1;33m(\u001b[0m\u001b[0mnumerical_col\u001b[0m\u001b[1;33m)\u001b[0m\u001b[1;33m:\u001b[0m\u001b[1;33m\u001b[0m\u001b[1;33m\u001b[0m\u001b[0m\n\u001b[0;32m      4\u001b[0m     \u001b[0max1\u001b[0m \u001b[1;33m=\u001b[0m \u001b[0mfig\u001b[0m\u001b[1;33m.\u001b[0m\u001b[0madd_subplot\u001b[0m\u001b[1;33m(\u001b[0m\u001b[1;36m7\u001b[0m\u001b[1;33m,\u001b[0m\u001b[1;36m2\u001b[0m\u001b[1;33m,\u001b[0m \u001b[0mi\u001b[0m\u001b[1;33m+\u001b[0m\u001b[1;36m1\u001b[0m\u001b[1;33m)\u001b[0m\u001b[1;33m;\u001b[0m\u001b[1;33m\u001b[0m\u001b[1;33m\u001b[0m\u001b[0m\n\u001b[1;32m----> 5\u001b[1;33m     \u001b[0max1\u001b[0m \u001b[1;33m=\u001b[0m \u001b[0msns\u001b[0m\u001b[1;33m.\u001b[0m\u001b[0mboxplot\u001b[0m\u001b[1;33m(\u001b[0m\u001b[0mdata\u001b[0m \u001b[1;33m=\u001b[0m \u001b[0mdf\u001b[0m\u001b[1;33m,\u001b[0m \u001b[0mx\u001b[0m\u001b[1;33m=\u001b[0m\u001b[0mcol\u001b[0m\u001b[1;33m)\u001b[0m\u001b[1;33m\u001b[0m\u001b[1;33m\u001b[0m\u001b[0m\n\u001b[0m",
      "\u001b[1;32m~\\anaconda3\\lib\\site-packages\\seaborn\\categorical.py\u001b[0m in \u001b[0;36mboxplot\u001b[1;34m(data, x, y, hue, order, hue_order, orient, color, palette, saturation, width, dodge, fliersize, linewidth, whis, ax, **kwargs)\u001b[0m\n\u001b[0;32m   2229\u001b[0m ):\n\u001b[0;32m   2230\u001b[0m \u001b[1;33m\u001b[0m\u001b[0m\n\u001b[1;32m-> 2231\u001b[1;33m     plotter = _BoxPlotter(x, y, hue, data, order, hue_order,\n\u001b[0m\u001b[0;32m   2232\u001b[0m                           \u001b[0morient\u001b[0m\u001b[1;33m,\u001b[0m \u001b[0mcolor\u001b[0m\u001b[1;33m,\u001b[0m \u001b[0mpalette\u001b[0m\u001b[1;33m,\u001b[0m \u001b[0msaturation\u001b[0m\u001b[1;33m,\u001b[0m\u001b[1;33m\u001b[0m\u001b[1;33m\u001b[0m\u001b[0m\n\u001b[0;32m   2233\u001b[0m                           width, dodge, fliersize, linewidth)\n",
      "\u001b[1;32m~\\anaconda3\\lib\\site-packages\\seaborn\\categorical.py\u001b[0m in \u001b[0;36m__init__\u001b[1;34m(self, x, y, hue, data, order, hue_order, orient, color, palette, saturation, width, dodge, fliersize, linewidth)\u001b[0m\n\u001b[0;32m    783\u001b[0m                  width, dodge, fliersize, linewidth):\n\u001b[0;32m    784\u001b[0m \u001b[1;33m\u001b[0m\u001b[0m\n\u001b[1;32m--> 785\u001b[1;33m         \u001b[0mself\u001b[0m\u001b[1;33m.\u001b[0m\u001b[0mestablish_variables\u001b[0m\u001b[1;33m(\u001b[0m\u001b[0mx\u001b[0m\u001b[1;33m,\u001b[0m \u001b[0my\u001b[0m\u001b[1;33m,\u001b[0m \u001b[0mhue\u001b[0m\u001b[1;33m,\u001b[0m \u001b[0mdata\u001b[0m\u001b[1;33m,\u001b[0m \u001b[0morient\u001b[0m\u001b[1;33m,\u001b[0m \u001b[0morder\u001b[0m\u001b[1;33m,\u001b[0m \u001b[0mhue_order\u001b[0m\u001b[1;33m)\u001b[0m\u001b[1;33m\u001b[0m\u001b[1;33m\u001b[0m\u001b[0m\n\u001b[0m\u001b[0;32m    786\u001b[0m         \u001b[0mself\u001b[0m\u001b[1;33m.\u001b[0m\u001b[0mestablish_colors\u001b[0m\u001b[1;33m(\u001b[0m\u001b[0mcolor\u001b[0m\u001b[1;33m,\u001b[0m \u001b[0mpalette\u001b[0m\u001b[1;33m,\u001b[0m \u001b[0msaturation\u001b[0m\u001b[1;33m)\u001b[0m\u001b[1;33m\u001b[0m\u001b[1;33m\u001b[0m\u001b[0m\n\u001b[0;32m    787\u001b[0m \u001b[1;33m\u001b[0m\u001b[0m\n",
      "\u001b[1;32m~\\anaconda3\\lib\\site-packages\\seaborn\\categorical.py\u001b[0m in \u001b[0;36mestablish_variables\u001b[1;34m(self, x, y, hue, data, orient, order, hue_order, units)\u001b[0m\n\u001b[0;32m    539\u001b[0m                 \u001b[1;32mif\u001b[0m \u001b[0misinstance\u001b[0m\u001b[1;33m(\u001b[0m\u001b[0mvar\u001b[0m\u001b[1;33m,\u001b[0m \u001b[0mstr\u001b[0m\u001b[1;33m)\u001b[0m\u001b[1;33m:\u001b[0m\u001b[1;33m\u001b[0m\u001b[1;33m\u001b[0m\u001b[0m\n\u001b[0;32m    540\u001b[0m                     \u001b[0merr\u001b[0m \u001b[1;33m=\u001b[0m \u001b[1;34mf\"Could not interpret input '{var}'\"\u001b[0m\u001b[1;33m\u001b[0m\u001b[1;33m\u001b[0m\u001b[0m\n\u001b[1;32m--> 541\u001b[1;33m                     \u001b[1;32mraise\u001b[0m \u001b[0mValueError\u001b[0m\u001b[1;33m(\u001b[0m\u001b[0merr\u001b[0m\u001b[1;33m)\u001b[0m\u001b[1;33m\u001b[0m\u001b[1;33m\u001b[0m\u001b[0m\n\u001b[0m\u001b[0;32m    542\u001b[0m \u001b[1;33m\u001b[0m\u001b[0m\n\u001b[0;32m    543\u001b[0m             \u001b[1;31m# Figure out the plotting orientation\u001b[0m\u001b[1;33m\u001b[0m\u001b[1;33m\u001b[0m\u001b[1;33m\u001b[0m\u001b[0m\n",
      "\u001b[1;31mValueError\u001b[0m: Could not interpret input 'Informational'"
     ]
    },
    {
     "data": {
      "image/png": "[encoded data removed]",
      "text/plain": [
       "<Figure size 1440x2160 with 3 Axes>"
      ]
     },
     "metadata": {
      "needs_background": "light"
     },
     "output_type": "display_data"
    }
   ],
   "source": [
    "#Visualization After Handling Outliers\n",
    "fig = plt.figure(figsize=[20,30])\n",
    "for i ,col in enumerate(numerical_col):  \n",
    "    ax1 = fig.add_subplot(7,2, i+1);\n",
    "    ax1 = sns.boxplot(data = df, x=col)"
   ]
  },
  {
   "cell_type": "code",
   "execution_count": 34,
   "id": "907aacdf",
   "metadata": {},
   "outputs": [
    {
     "name": "stdout",
     "output_type": "stream",
     "text": [
      "[ 0  1  2  4 16  5  3 14  6 12  7  9 10  8 11 24 13]\n",
      "[  0.   120.    16.   ... 547.75 368.25 211.25]\n",
      "[ 1  2  3  4  5  6  7 10  8  9 12 13 11]\n",
      "[0.  0.4 0.8 1.  0.2 0.6]\n",
      "[ 0.         54.17976426 19.44707913 ... 78.81172527  3.68540082\n",
      " 12.24171745]\n",
      "[1 2 4 3 7 6 8 5]\n"
     ]
    }
   ],
   "source": [
    "print(df.Informational.unique())\n",
    "print(df.Informational_Duration.unique())\n",
    "print(df.Browser.unique())\n",
    "print(df.SpecialDay.unique())\n",
    "print(df.PageValues.unique())\n",
    "print(df.OperatingSystems.unique())"
   ]
  },
  {
   "cell_type": "code",
   "execution_count": 35,
   "id": "7dc466c2",
   "metadata": {},
   "outputs": [
    {
     "name": "stdout",
     "output_type": "stream",
     "text": [
      "Browser\n",
      "2     7883\n",
      "1     2427\n",
      "4      731\n",
      "5      465\n",
      "6      174\n",
      "10     163\n",
      "8      135\n",
      "3      105\n",
      "13      56\n",
      "7       49\n",
      "12      10\n",
      "11       6\n",
      "9        1\n",
      "Name: count, dtype: int64\n",
      "OperatingSystems\n",
      "2    6541\n",
      "1    2549\n",
      "3    2530\n",
      "4     478\n",
      "8      75\n",
      "6      19\n",
      "7       7\n",
      "5       6\n",
      "Name: count, dtype: int64\n"
     ]
    }
   ],
   "source": [
    "print(df.Browser.value_counts())\n",
    "\n",
    "print(df.OperatingSystems.value_counts())"
   ]
  },
  {
   "cell_type": "code",
   "execution_count": 36,
   "id": "cb6b4700",
   "metadata": {},
   "outputs": [
    {
     "data": {
      "text/plain": [
       "(12330, 18)"
      ]
     },
     "execution_count": 36,
     "metadata": {},
     "output_type": "execute_result"
    }
   ],
   "source": [
    "data.shape"
   ]
  },
  {
   "cell_type": "code",
   "execution_count": 37,
   "id": "eceed318",
   "metadata": {
    "scrolled": true
   },
   "outputs": [
    {
     "data": {
      "text/plain": [
       "(12205, 18)"
      ]
     },
     "execution_count": 37,
     "metadata": {},
     "output_type": "execute_result"
    }
   ],
   "source": [
    "df.shape"
   ]
  },
  {
   "cell_type": "code",
   "execution_count": 38,
   "id": "ffde522a",
   "metadata": {},
   "outputs": [],
   "source": [
    "#Dropping Some Unnecessary columns\n",
    "df.drop(['Informational', 'SpecialDay','PageValues', 'Browser', 'Informational_Duration'], axis=1, inplace=True)"
   ]
  },
  {
   "cell_type": "code",
   "execution_count": 39,
   "id": "f6c78b20",
   "metadata": {},
   "outputs": [
    {
     "data": {
      "text/plain": [
       "(12205, 13)"
      ]
     },
     "execution_count": 39,
     "metadata": {},
     "output_type": "execute_result"
    }
   ],
   "source": [
    "df.shape"
   ]
  },
  {
   "cell_type": "code",
   "execution_count": 40,
   "id": "a6e59ae9",
   "metadata": {
    "scrolled": false
   },
   "outputs": [
    {
     "data": {
      "text/plain": [
       "Administrative               int64\n",
       "Administrative_Duration    float64\n",
       "ProductRelated               int64\n",
       "ProductRelated_Duration    float64\n",
       "BounceRates                float64\n",
       "ExitRates                  float64\n",
       "Month                        int32\n",
       "OperatingSystems             int64\n",
       "Region                       int64\n",
       "TrafficType                  int64\n",
       "VisitorType                  int32\n",
       "Weekend                      int64\n",
       "Revenue                      int64\n",
       "dtype: object"
      ]
     },
     "execution_count": 40,
     "metadata": {},
     "output_type": "execute_result"
    }
   ],
   "source": [
    "df.dtypes"
   ]
  },
  {
   "cell_type": "code",
   "execution_count": 41,
   "id": "33769b8c",
   "metadata": {},
   "outputs": [
    {
     "data": {
      "text/html": [
       "<div>\n",
       "<style scoped>\n",
       "    .dataframe tbody tr th:only-of-type {\n",
       "        vertical-align: middle;\n",
       "    }\n",
       "\n",
       "    .dataframe tbody tr th {\n",
       "        vertical-align: top;\n",
       "    }\n",
       "\n",
       "    .dataframe thead th {\n",
       "        text-align: right;\n",
       "    }\n",
       "</style>\n",
       "<table border=\"1\" class=\"dataframe\">\n",
       "  <thead>\n",
       "    <tr style=\"text-align: right;\">\n",
       "      <th></th>\n",
       "      <th>Administrative</th>\n",
       "      <th>Administrative_Duration</th>\n",
       "      <th>ProductRelated</th>\n",
       "      <th>ProductRelated_Duration</th>\n",
       "      <th>BounceRates</th>\n",
       "      <th>ExitRates</th>\n",
       "      <th>Month</th>\n",
       "      <th>OperatingSystems</th>\n",
       "      <th>Region</th>\n",
       "      <th>TrafficType</th>\n",
       "      <th>VisitorType</th>\n",
       "      <th>Weekend</th>\n",
       "      <th>Revenue</th>\n",
       "    </tr>\n",
       "  </thead>\n",
       "  <tbody>\n",
       "    <tr>\n",
       "      <th>count</th>\n",
       "      <td>12205.000000</td>\n",
       "      <td>12205.000000</td>\n",
       "      <td>12205.000000</td>\n",
       "      <td>12205.000000</td>\n",
       "      <td>12205.000000</td>\n",
       "      <td>12205.000000</td>\n",
       "      <td>12205.000000</td>\n",
       "      <td>12205.000000</td>\n",
       "      <td>12205.000000</td>\n",
       "      <td>12205.000000</td>\n",
       "      <td>12205.000000</td>\n",
       "      <td>12205.000000</td>\n",
       "      <td>12205.000000</td>\n",
       "    </tr>\n",
       "    <tr>\n",
       "      <th>mean</th>\n",
       "      <td>2.338878</td>\n",
       "      <td>81.646331</td>\n",
       "      <td>32.045637</td>\n",
       "      <td>1206.982457</td>\n",
       "      <td>0.020370</td>\n",
       "      <td>0.041466</td>\n",
       "      <td>5.168046</td>\n",
       "      <td>2.124211</td>\n",
       "      <td>3.153298</td>\n",
       "      <td>4.073904</td>\n",
       "      <td>1.715936</td>\n",
       "      <td>0.234248</td>\n",
       "      <td>0.156329</td>\n",
       "    </tr>\n",
       "    <tr>\n",
       "      <th>std</th>\n",
       "      <td>3.330436</td>\n",
       "      <td>177.491845</td>\n",
       "      <td>44.593649</td>\n",
       "      <td>1919.601400</td>\n",
       "      <td>0.045255</td>\n",
       "      <td>0.046163</td>\n",
       "      <td>2.374071</td>\n",
       "      <td>0.906823</td>\n",
       "      <td>2.402340</td>\n",
       "      <td>4.016654</td>\n",
       "      <td>0.693425</td>\n",
       "      <td>0.423545</td>\n",
       "      <td>0.363182</td>\n",
       "    </tr>\n",
       "    <tr>\n",
       "      <th>min</th>\n",
       "      <td>0.000000</td>\n",
       "      <td>0.000000</td>\n",
       "      <td>0.000000</td>\n",
       "      <td>0.000000</td>\n",
       "      <td>0.000000</td>\n",
       "      <td>0.000000</td>\n",
       "      <td>0.000000</td>\n",
       "      <td>1.000000</td>\n",
       "      <td>1.000000</td>\n",
       "      <td>1.000000</td>\n",
       "      <td>0.000000</td>\n",
       "      <td>0.000000</td>\n",
       "      <td>0.000000</td>\n",
       "    </tr>\n",
       "    <tr>\n",
       "      <th>25%</th>\n",
       "      <td>0.000000</td>\n",
       "      <td>0.000000</td>\n",
       "      <td>8.000000</td>\n",
       "      <td>193.000000</td>\n",
       "      <td>0.000000</td>\n",
       "      <td>0.014231</td>\n",
       "      <td>5.000000</td>\n",
       "      <td>2.000000</td>\n",
       "      <td>1.000000</td>\n",
       "      <td>2.000000</td>\n",
       "      <td>2.000000</td>\n",
       "      <td>0.000000</td>\n",
       "      <td>0.000000</td>\n",
       "    </tr>\n",
       "    <tr>\n",
       "      <th>50%</th>\n",
       "      <td>1.000000</td>\n",
       "      <td>9.000000</td>\n",
       "      <td>18.000000</td>\n",
       "      <td>608.942857</td>\n",
       "      <td>0.002899</td>\n",
       "      <td>0.025000</td>\n",
       "      <td>6.000000</td>\n",
       "      <td>2.000000</td>\n",
       "      <td>3.000000</td>\n",
       "      <td>2.000000</td>\n",
       "      <td>2.000000</td>\n",
       "      <td>0.000000</td>\n",
       "      <td>0.000000</td>\n",
       "    </tr>\n",
       "    <tr>\n",
       "      <th>75%</th>\n",
       "      <td>4.000000</td>\n",
       "      <td>94.700000</td>\n",
       "      <td>38.000000</td>\n",
       "      <td>1477.154762</td>\n",
       "      <td>0.016667</td>\n",
       "      <td>0.048529</td>\n",
       "      <td>7.000000</td>\n",
       "      <td>3.000000</td>\n",
       "      <td>4.000000</td>\n",
       "      <td>4.000000</td>\n",
       "      <td>2.000000</td>\n",
       "      <td>0.000000</td>\n",
       "      <td>0.000000</td>\n",
       "    </tr>\n",
       "    <tr>\n",
       "      <th>max</th>\n",
       "      <td>27.000000</td>\n",
       "      <td>3398.750000</td>\n",
       "      <td>705.000000</td>\n",
       "      <td>63973.522230</td>\n",
       "      <td>0.200000</td>\n",
       "      <td>0.200000</td>\n",
       "      <td>9.000000</td>\n",
       "      <td>8.000000</td>\n",
       "      <td>9.000000</td>\n",
       "      <td>20.000000</td>\n",
       "      <td>2.000000</td>\n",
       "      <td>1.000000</td>\n",
       "      <td>1.000000</td>\n",
       "    </tr>\n",
       "  </tbody>\n",
       "</table>\n",
       "</div>"
      ],
      "text/plain": [
       "       Administrative  Administrative_Duration  ProductRelated   \n",
       "count    12205.000000             12205.000000    12205.000000  \\\n",
       "mean         2.338878                81.646331       32.045637   \n",
       "std          3.330436               177.491845       44.593649   \n",
       "min          0.000000                 0.000000        0.000000   \n",
       "25%          0.000000                 0.000000        8.000000   \n",
       "50%          1.000000                 9.000000       18.000000   \n",
       "75%          4.000000                94.700000       38.000000   \n",
       "max         27.000000              3398.750000      705.000000   \n",
       "\n",
       "       ProductRelated_Duration   BounceRates     ExitRates         Month   \n",
       "count             12205.000000  12205.000000  12205.000000  12205.000000  \\\n",
       "mean               1206.982457      0.020370      0.041466      5.168046   \n",
       "std                1919.601400      0.045255      0.046163      2.374071   \n",
       "min                   0.000000      0.000000      0.000000      0.000000   \n",
       "25%                 193.000000      0.000000      0.014231      5.000000   \n",
       "50%                 608.942857      0.002899      0.025000      6.000000   \n",
       "75%                1477.154762      0.016667      0.048529      7.000000   \n",
       "max               63973.522230      0.200000      0.200000      9.000000   \n",
       "\n",
       "       OperatingSystems        Region   TrafficType   VisitorType   \n",
       "count      12205.000000  12205.000000  12205.000000  12205.000000  \\\n",
       "mean           2.124211      3.153298      4.073904      1.715936   \n",
       "std            0.906823      2.402340      4.016654      0.693425   \n",
       "min            1.000000      1.000000      1.000000      0.000000   \n",
       "25%            2.000000      1.000000      2.000000      2.000000   \n",
       "50%            2.000000      3.000000      2.000000      2.000000   \n",
       "75%            3.000000      4.000000      4.000000      2.000000   \n",
       "max            8.000000      9.000000     20.000000      2.000000   \n",
       "\n",
       "            Weekend       Revenue  \n",
       "count  12205.000000  12205.000000  \n",
       "mean       0.234248      0.156329  \n",
       "std        0.423545      0.363182  \n",
       "min        0.000000      0.000000  \n",
       "25%        0.000000      0.000000  \n",
       "50%        0.000000      0.000000  \n",
       "75%        0.000000      0.000000  \n",
       "max        1.000000      1.000000  "
      ]
     },
     "execution_count": 41,
     "metadata": {},
     "output_type": "execute_result"
    }
   ],
   "source": [
    "df.describe()"
   ]
  },
  {
   "cell_type": "code",
   "execution_count": 42,
   "id": "d34fe98d",
   "metadata": {
    "scrolled": true
   },
   "outputs": [
    {
     "data": {
      "text/html": [
       "<div>\n",
       "<style scoped>\n",
       "    .dataframe tbody tr th:only-of-type {\n",
       "        vertical-align: middle;\n",
       "    }\n",
       "\n",
       "    .dataframe tbody tr th {\n",
       "        vertical-align: top;\n",
       "    }\n",
       "\n",
       "    .dataframe thead th {\n",
       "        text-align: right;\n",
       "    }\n",
       "</style>\n",
       "<table border=\"1\" class=\"dataframe\">\n",
       "  <thead>\n",
       "    <tr style=\"text-align: right;\">\n",
       "      <th></th>\n",
       "      <th>Administrative</th>\n",
       "      <th>Administrative_Duration</th>\n",
       "      <th>ProductRelated</th>\n",
       "      <th>ProductRelated_Duration</th>\n",
       "      <th>BounceRates</th>\n",
       "      <th>ExitRates</th>\n",
       "      <th>Month</th>\n",
       "      <th>OperatingSystems</th>\n",
       "      <th>Region</th>\n",
       "      <th>TrafficType</th>\n",
       "      <th>VisitorType</th>\n",
       "      <th>Weekend</th>\n",
       "      <th>Revenue</th>\n",
       "    </tr>\n",
       "  </thead>\n",
       "  <tbody>\n",
       "    <tr>\n",
       "      <th>0</th>\n",
       "      <td>0</td>\n",
       "      <td>0.0</td>\n",
       "      <td>1</td>\n",
       "      <td>0.000000</td>\n",
       "      <td>0.20</td>\n",
       "      <td>0.20</td>\n",
       "      <td>2</td>\n",
       "      <td>1</td>\n",
       "      <td>1</td>\n",
       "      <td>1</td>\n",
       "      <td>2</td>\n",
       "      <td>0</td>\n",
       "      <td>0</td>\n",
       "    </tr>\n",
       "    <tr>\n",
       "      <th>1</th>\n",
       "      <td>0</td>\n",
       "      <td>0.0</td>\n",
       "      <td>2</td>\n",
       "      <td>64.000000</td>\n",
       "      <td>0.00</td>\n",
       "      <td>0.10</td>\n",
       "      <td>2</td>\n",
       "      <td>2</td>\n",
       "      <td>1</td>\n",
       "      <td>2</td>\n",
       "      <td>2</td>\n",
       "      <td>0</td>\n",
       "      <td>0</td>\n",
       "    </tr>\n",
       "    <tr>\n",
       "      <th>2</th>\n",
       "      <td>0</td>\n",
       "      <td>0.0</td>\n",
       "      <td>1</td>\n",
       "      <td>0.000000</td>\n",
       "      <td>0.20</td>\n",
       "      <td>0.20</td>\n",
       "      <td>2</td>\n",
       "      <td>4</td>\n",
       "      <td>9</td>\n",
       "      <td>3</td>\n",
       "      <td>2</td>\n",
       "      <td>0</td>\n",
       "      <td>0</td>\n",
       "    </tr>\n",
       "    <tr>\n",
       "      <th>3</th>\n",
       "      <td>0</td>\n",
       "      <td>0.0</td>\n",
       "      <td>2</td>\n",
       "      <td>2.666667</td>\n",
       "      <td>0.05</td>\n",
       "      <td>0.14</td>\n",
       "      <td>2</td>\n",
       "      <td>3</td>\n",
       "      <td>2</td>\n",
       "      <td>4</td>\n",
       "      <td>2</td>\n",
       "      <td>0</td>\n",
       "      <td>0</td>\n",
       "    </tr>\n",
       "    <tr>\n",
       "      <th>4</th>\n",
       "      <td>0</td>\n",
       "      <td>0.0</td>\n",
       "      <td>10</td>\n",
       "      <td>627.500000</td>\n",
       "      <td>0.02</td>\n",
       "      <td>0.05</td>\n",
       "      <td>2</td>\n",
       "      <td>3</td>\n",
       "      <td>1</td>\n",
       "      <td>4</td>\n",
       "      <td>2</td>\n",
       "      <td>1</td>\n",
       "      <td>0</td>\n",
       "    </tr>\n",
       "  </tbody>\n",
       "</table>\n",
       "</div>"
      ],
      "text/plain": [
       "   Administrative  Administrative_Duration  ProductRelated   \n",
       "0               0                      0.0               1  \\\n",
       "1               0                      0.0               2   \n",
       "2               0                      0.0               1   \n",
       "3               0                      0.0               2   \n",
       "4               0                      0.0              10   \n",
       "\n",
       "   ProductRelated_Duration  BounceRates  ExitRates  Month  OperatingSystems   \n",
       "0                 0.000000         0.20       0.20      2                 1  \\\n",
       "1                64.000000         0.00       0.10      2                 2   \n",
       "2                 0.000000         0.20       0.20      2                 4   \n",
       "3                 2.666667         0.05       0.14      2                 3   \n",
       "4               627.500000         0.02       0.05      2                 3   \n",
       "\n",
       "   Region  TrafficType  VisitorType  Weekend  Revenue  \n",
       "0       1            1            2        0        0  \n",
       "1       1            2            2        0        0  \n",
       "2       9            3            2        0        0  \n",
       "3       2            4            2        0        0  \n",
       "4       1            4            2        1        0  "
      ]
     },
     "execution_count": 42,
     "metadata": {},
     "output_type": "execute_result"
    }
   ],
   "source": [
    "df.head()"
   ]
  },
  {
   "cell_type": "code",
   "execution_count": 43,
   "id": "2c708be8",
   "metadata": {},
   "outputs": [
    {
     "data": {
      "text/plain": [
       "<Axes: >"
      ]
     },
     "execution_count": 43,
     "metadata": {},
     "output_type": "execute_result"
    },
    {
     "data": {
      "image/png": "[encoded data removed]",
      "text/plain": [
       "<Figure size 1080x720 with 2 Axes>"
      ]
     },
     "metadata": {
      "needs_background": "light"
     },
     "output_type": "display_data"
    }
   ],
   "source": [
    "# Correlation Analysis Using Heatmap \n",
    "\n",
    "plt.figure(figsize=(15, 10))\n",
    "mask = np.triu(np.ones_like(df.corr()))\n",
    "sns.heatmap(df.corr(),mask= mask, annot=True, fmt='.2f', linewidths=0.5, cmap='PuOr')"
   ]
  },
  {
   "cell_type": "code",
   "execution_count": 44,
   "id": "ef22940c",
   "metadata": {},
   "outputs": [],
   "source": [
    "# Separating dependent and independent features\n",
    "\n",
    "x = df.drop('Weekend', axis=1)\n",
    "y = df['Weekend']"
   ]
  },
  {
   "cell_type": "code",
   "execution_count": 45,
   "id": "3ecdd954",
   "metadata": {},
   "outputs": [
    {
     "name": "stdout",
     "output_type": "stream",
     "text": [
      "Requirement already satisfied: imbalanced-learn in c:\\users\\sssun\\anaconda3\\lib\\site-packages (0.6.1)\n",
      "Requirement already satisfied: numpy>=1.11 in c:\\users\\sssun\\anaconda3\\lib\\site-packages (from imbalanced-learn) (1.24.3)\n",
      "Requirement already satisfied: scipy>=0.17 in c:\\users\\sssun\\anaconda3\\lib\\site-packages (from imbalanced-learn) (1.10.1)\n",
      "Requirement already satisfied: scikit-learn>=0.22 in c:\\users\\sssun\\anaconda3\\lib\\site-packages (from imbalanced-learn) (0.22.1)\n",
      "Requirement already satisfied: joblib>=0.11 in c:\\users\\sssun\\anaconda3\\lib\\site-packages (from imbalanced-learn) (0.14.1)\n"
     ]
    },
    {
     "name": "stderr",
     "output_type": "stream",
     "text": [
      "WARNING: Ignoring invalid distribution -tatsmodels (c:\\users\\sssun\\anaconda3\\lib\\site-packages)\n",
      "WARNING: Ignoring invalid distribution -tatsmodels (c:\\users\\sssun\\anaconda3\\lib\\site-packages)\n"
     ]
    }
   ],
   "source": [
    "!pip install imbalanced-learn"
   ]
  },
  {
   "cell_type": "markdown",
   "id": "9bd5163a",
   "metadata": {},
   "source": [
    "### Handling Imbalance data"
   ]
  },
  {
   "cell_type": "code",
   "execution_count": 47,
   "id": "17bd58ba",
   "metadata": {},
   "outputs": [],
   "source": [
    "#For balancing the imbalance dataset\n",
    "from imblearn.over_sampling import SMOTENC,RandomOverSampler,KMeansSMOTE\n",
    "\n",
    "rdsample=RandomOverSampler()\n",
    "x_sampled,y_sampled  = rdsample.fit_sample(x,y)"
   ]
  },
  {
   "cell_type": "code",
   "execution_count": 48,
   "id": "87ac3eb8",
   "metadata": {},
   "outputs": [
    {
     "name": "stdout",
     "output_type": "stream",
     "text": [
      "(18692, 12)\n",
      "(18692,)\n"
     ]
    }
   ],
   "source": [
    "print(x_sampled.shape)\n",
    "print(y_sampled.shape)"
   ]
  },
  {
   "cell_type": "code",
   "execution_count": 49,
   "id": "0f8116dc",
   "metadata": {},
   "outputs": [
    {
     "data": {
      "text/plain": [
       "<Axes: xlabel='Weekend', ylabel='count'>"
      ]
     },
     "execution_count": 49,
     "metadata": {},
     "output_type": "execute_result"
    },
    {
     "data": {
      "image/png": "[encoded data removed]",
      "text/plain": [
       "<Figure size 432x288 with 1 Axes>"
      ]
     },
     "metadata": {
      "needs_background": "light"
     },
     "output_type": "display_data"
    }
   ],
   "source": [
    "#after handling imbalance data\n",
    "sns.countplot(data=df, x= y_sampled)       "
   ]
  },
  {
   "cell_type": "code",
   "execution_count": 50,
   "id": "e83d81d3",
   "metadata": {},
   "outputs": [],
   "source": [
    "# Train test Split\n",
    "X_train, X_test, y_train, y_test = train_test_split(x, y, test_size=0.2, random_state=42)"
   ]
  },
  {
   "cell_type": "code",
   "execution_count": 51,
   "id": "d698edb4",
   "metadata": {},
   "outputs": [],
   "source": [
    "#standardize or feature scaling the datasets\n",
    "\n",
    "from sklearn.preprocessing import StandardScaler\n",
    "\n",
    "scaler = StandardScaler()\n",
    "\n",
    "X_train = scaler.fit_transform(X_train)\n",
    "\n",
    "# for avoiding data leakage here we use transform not fit_transform\n",
    "X_test = scaler.transform(X_test)"
   ]
  },
  {
   "cell_type": "markdown",
   "id": "97b4781c",
   "metadata": {},
   "source": [
    "## Model Building"
   ]
  },
  {
   "cell_type": "markdown",
   "id": "557fc648",
   "metadata": {},
   "source": [
    "### Logistic Regression"
   ]
  },
  {
   "cell_type": "code",
   "execution_count": 52,
   "id": "cb0125d9",
   "metadata": {},
   "outputs": [
    {
     "data": {
      "text/html": [
       "<style>#sk-container-id-1 {color: black;background-color: white;}#sk-container-id-1 pre{padding: 0;}#sk-container-id-1 div.sk-toggleable {background-color: white;}#sk-container-id-1 label.sk-toggleable__label {cursor: pointer;display: block;width: 100%;margin-bottom: 0;padding: 0.3em;box-sizing: border-box;text-align: center;}#sk-container-id-1 label.sk-toggleable__label-arrow:before {content: \"▸\";float: left;margin-right: 0.25em;color: #696969;}#sk-container-id-1 label.sk-toggleable__label-arrow:hover:before {color: black;}#sk-container-id-1 div.sk-estimator:hover label.sk-toggleable__label-arrow:before {color: black;}#sk-container-id-1 div.sk-toggleable__content {max-height: 0;max-width: 0;overflow: hidden;text-align: left;background-color: #f0f8ff;}#sk-container-id-1 div.sk-toggleable__content pre {margin: 0.2em;color: black;border-radius: 0.25em;background-color: #f0f8ff;}#sk-container-id-1 input.sk-toggleable__control:checked~div.sk-toggleable__content {max-height: 200px;max-width: 100%;overflow: auto;}#sk-container-id-1 input.sk-toggleable__control:checked~label.sk-toggleable__label-arrow:before {content: \"▾\";}#sk-container-id-1 div.sk-estimator input.sk-toggleable__control:checked~label.sk-toggleable__label {background-color: #d4ebff;}#sk-container-id-1 div.sk-label input.sk-toggleable__control:checked~label.sk-toggleable__label {background-color: #d4ebff;}#sk-container-id-1 input.sk-hidden--visually {border: 0;clip: rect(1px 1px 1px 1px);clip: rect(1px, 1px, 1px, 1px);height: 1px;margin: -1px;overflow: hidden;padding: 0;position: absolute;width: 1px;}#sk-container-id-1 div.sk-estimator {font-family: monospace;background-color: #f0f8ff;border: 1px dotted black;border-radius: 0.25em;box-sizing: border-box;margin-bottom: 0.5em;}#sk-container-id-1 div.sk-estimator:hover {background-color: #d4ebff;}#sk-container-id-1 div.sk-parallel-item::after {content: \"\";width: 100%;border-bottom: 1px solid gray;flex-grow: 1;}#sk-container-id-1 div.sk-label:hover label.sk-toggleable__label {background-color: #d4ebff;}#sk-container-id-1 div.sk-serial::before {content: \"\";position: absolute;border-left: 1px solid gray;box-sizing: border-box;top: 0;bottom: 0;left: 50%;z-index: 0;}#sk-container-id-1 div.sk-serial {display: flex;flex-direction: column;align-items: center;background-color: white;padding-right: 0.2em;padding-left: 0.2em;position: relative;}#sk-container-id-1 div.sk-item {position: relative;z-index: 1;}#sk-container-id-1 div.sk-parallel {display: flex;align-items: stretch;justify-content: center;background-color: white;position: relative;}#sk-container-id-1 div.sk-item::before, #sk-container-id-1 div.sk-parallel-item::before {content: \"\";position: absolute;border-left: 1px solid gray;box-sizing: border-box;top: 0;bottom: 0;left: 50%;z-index: -1;}#sk-container-id-1 div.sk-parallel-item {display: flex;flex-direction: column;z-index: 1;position: relative;background-color: white;}#sk-container-id-1 div.sk-parallel-item:first-child::after {align-self: flex-end;width: 50%;}#sk-container-id-1 div.sk-parallel-item:last-child::after {align-self: flex-start;width: 50%;}#sk-container-id-1 div.sk-parallel-item:only-child::after {width: 0;}#sk-container-id-1 div.sk-dashed-wrapped {border: 1px dashed gray;margin: 0 0.4em 0.5em 0.4em;box-sizing: border-box;padding-bottom: 0.4em;background-color: white;}#sk-container-id-1 div.sk-label label {font-family: monospace;font-weight: bold;display: inline-block;line-height: 1.2em;}#sk-container-id-1 div.sk-label-container {text-align: center;}#sk-container-id-1 div.sk-container {/* jupyter's `normalize.less` sets `[hidden] { display: none; }` but bootstrap.min.css set `[hidden] { display: none !important; }` so we also need the `!important` here to be able to override the default hidden behavior on the sphinx rendered scikit-learn.org. See: https://github.com/scikit-learn/scikit-learn/issues/21755 */display: inline-block !important;position: relative;}#sk-container-id-1 div.sk-text-repr-fallback {display: none;}</style><div id=\"sk-container-id-1\" class=\"sk-top-container\"><div class=\"sk-text-repr-fallback\"><pre>LogisticRegression()</pre><b>In a Jupyter environment, please rerun this cell to show the HTML representation or trust the notebook. <br />On GitHub, the HTML representation is unable to render, please try loading this page with nbviewer.org.</b></div><div class=\"sk-container\" hidden><div class=\"sk-item\"><div class=\"sk-estimator sk-toggleable\"><input class=\"sk-toggleable__control sk-hidden--visually\" id=\"sk-estimator-id-1\" type=\"checkbox\" checked><label for=\"sk-estimator-id-1\" class=\"sk-toggleable__label sk-toggleable__label-arrow\">LogisticRegression</label><div class=\"sk-toggleable__content\"><pre>LogisticRegression()</pre></div></div></div></div></div>"
      ],
      "text/plain": [
       "LogisticRegression()"
      ]
     },
     "execution_count": 52,
     "metadata": {},
     "output_type": "execute_result"
    }
   ],
   "source": [
    "log_model = LogisticRegression()\n",
    "log_model.fit(X_train, y_train)"
   ]
  },
  {
   "cell_type": "code",
   "execution_count": 53,
   "id": "532de422",
   "metadata": {},
   "outputs": [],
   "source": [
    "log_pred=log_model.predict(X_test)"
   ]
  },
  {
   "cell_type": "code",
   "execution_count": 75,
   "id": "8515200e",
   "metadata": {},
   "outputs": [
    {
     "name": "stdout",
     "output_type": "stream",
     "text": [
      "Accuracy: 0.7607537894305613 \n",
      "Precision: 0.0 \n",
      "Recall: 0.0 \n",
      "f1_score: 0.0 \n",
      "roc_auc_curve: 0.5 \n",
      "Confusion matrix:\n",
      " [[1857    0]\n",
      " [ 584    0]]\n"
     ]
    }
   ],
   "source": [
    "# Evaluating the model performance\n",
    "\n",
    "cm=confusion_matrix(y_test, log_pred)\n",
    "acc = accuracy_score(y_test, log_pred)\n",
    "prec = precision_score(y_test, log_pred)\n",
    "recl = recall_score(y_test, log_pred)\n",
    "f1 = f1_score(y_test, log_pred)\n",
    "roc_auc = roc_auc_score(y_test, log_pred)\n",
    "\n",
    "print(f'Accuracy: {acc} \\nPrecision: {prec} \\nRecall: {recl} \\nf1_score: {f1} \\nroc_auc_curve: {roc_auc} \\nConfusion matrix:\\n {cm}')"
   ]
  },
  {
   "cell_type": "code",
   "execution_count": 55,
   "id": "eed9571b",
   "metadata": {},
   "outputs": [
    {
     "name": "stdout",
     "output_type": "stream",
     "text": [
      "Traning Accuracy 0.7670012290045064\n",
      "Test Accuracy 0.7607537894305613\n"
     ]
    }
   ],
   "source": [
    "print(\"Traning Accuracy\", log_model.score(X_train, y_train))\n",
    "print(\"Test Accuracy\", log_model.score(X_test, y_test))"
   ]
  },
  {
   "cell_type": "code",
   "execution_count": 56,
   "id": "8d5ea03a",
   "metadata": {},
   "outputs": [
    {
     "name": "stdout",
     "output_type": "stream",
     "text": [
      "              precision    recall  f1-score   support\n",
      "\n",
      "           0       0.76      1.00      0.86      1857\n",
      "           1       0.00      0.00      0.00       584\n",
      "\n",
      "    accuracy                           0.76      2441\n",
      "   macro avg       0.38      0.50      0.43      2441\n",
      "weighted avg       0.58      0.76      0.66      2441\n",
      "\n"
     ]
    }
   ],
   "source": [
    "print(classification_report(y_test, log_pred))"
   ]
  },
  {
   "cell_type": "markdown",
   "id": "cb5c97c2",
   "metadata": {},
   "source": [
    "###  SVM"
   ]
  },
  {
   "cell_type": "code",
   "execution_count": 57,
   "id": "1b0bef89",
   "metadata": {},
   "outputs": [],
   "source": [
    "classifier_svm=SVC(kernel='rbf',random_state=0)\n",
    "classifier_svm.fit(X_train,y_train)\n",
    "svm_pred=classifier_svm.predict(X_test)"
   ]
  },
  {
   "cell_type": "code",
   "execution_count": 76,
   "id": "7a3eade5",
   "metadata": {},
   "outputs": [
    {
     "name": "stdout",
     "output_type": "stream",
     "text": [
      "Accuracy: 0.7607537894305613 \n",
      "Precision: 0.0 \n",
      "Recall: 0.0 \n",
      "f1_score: 0.0 \n",
      "roc_auc_curve: 0.5 \n",
      "Confusion matrix:\n",
      " [[1857    0]\n",
      " [ 584    0]]\n"
     ]
    }
   ],
   "source": [
    "# Evaluating the model performance\n",
    "\n",
    "cm=confusion_matrix(y_test, svm_pred)\n",
    "acc = accuracy_score(y_test, svm_pred)\n",
    "prec = precision_score(y_test, svm_pred)\n",
    "recl = recall_score(y_test, svm_pred)\n",
    "f1 = f1_score(y_test, svm_pred)\n",
    "roc_auc = roc_auc_score(y_test, svm_pred)\n",
    "\n",
    "print(f'Accuracy: {acc} \\nPrecision: {prec} \\nRecall: {recl} \\nf1_score: {f1} \\nroc_auc_curve: {roc_auc} \\nConfusion matrix:\\n {cm}')"
   ]
  },
  {
   "cell_type": "code",
   "execution_count": 78,
   "id": "d3a35452",
   "metadata": {},
   "outputs": [
    {
     "name": "stdout",
     "output_type": "stream",
     "text": [
      "              precision    recall  f1-score   support\n",
      "\n",
      "           0       0.76      1.00      0.86      1857\n",
      "           1       0.00      0.00      0.00       584\n",
      "\n",
      "    accuracy                           0.76      2441\n",
      "   macro avg       0.38      0.50      0.43      2441\n",
      "weighted avg       0.58      0.76      0.66      2441\n",
      "\n"
     ]
    }
   ],
   "source": [
    "print(classification_report(y_test, svm_pred))"
   ]
  },
  {
   "cell_type": "markdown",
   "id": "e73012b2",
   "metadata": {},
   "source": [
    "### Decision Tree"
   ]
  },
  {
   "cell_type": "code",
   "execution_count": 59,
   "id": "4f13b65d",
   "metadata": {},
   "outputs": [],
   "source": [
    "classifier_tree=DecisionTreeClassifier()\n",
    "classifier_tree.fit(X_train,y_train)\n",
    "dt_pred=classifier_tree.predict(X_test)"
   ]
  },
  {
   "cell_type": "code",
   "execution_count": 77,
   "id": "8b024dd8",
   "metadata": {},
   "outputs": [
    {
     "name": "stdout",
     "output_type": "stream",
     "text": [
      "Accuracy: 0.6476853748463745 \n",
      "Precision: 0.25618374558303886 \n",
      "Recall: 0.2482876712328767 \n",
      "f1_score: 0.25217391304347825 \n",
      "roc_auc_curve: 0.5107889621646344 \n",
      "Confusion matrix:\n",
      " [[1436  421]\n",
      " [ 439  145]]\n"
     ]
    }
   ],
   "source": [
    "# Evaluating the model performance\n",
    "\n",
    "cm=confusion_matrix(y_test, dt_pred)\n",
    "acc = accuracy_score(y_test, dt_pred)\n",
    "prec = precision_score(y_test, dt_pred)\n",
    "recl = recall_score(y_test, dt_pred)\n",
    "f1 = f1_score(y_test, dt_pred)\n",
    "roc_auc = roc_auc_score(y_test, dt_pred)\n",
    "\n",
    "print(f'Accuracy: {acc} \\nPrecision: {prec} \\nRecall: {recl} \\nf1_score: {f1} \\nroc_auc_curve: {roc_auc} \\nConfusion matrix:\\n {cm}')"
   ]
  },
  {
   "cell_type": "markdown",
   "id": "e09d527b",
   "metadata": {},
   "source": [
    "### Random Forest"
   ]
  },
  {
   "cell_type": "code",
   "execution_count": 61,
   "id": "d42bd38c",
   "metadata": {},
   "outputs": [],
   "source": [
    "classifier_forest=RandomForestClassifier(criterion='entropy',random_state=0)\n",
    "\n",
    "# training the Random Forest model on the sampled train dataset\n",
    "classifier_forest.fit(X_train,y_train)\n",
    "\n",
    "# pedicting the labels on the test set\n",
    "rf_pred=classifier_forest.predict(X_test)"
   ]
  },
  {
   "cell_type": "code",
   "execution_count": 72,
   "id": "81e8a738",
   "metadata": {},
   "outputs": [
    {
     "name": "stdout",
     "output_type": "stream",
     "text": [
      "Accuracy: 0.7488734125358459 \n",
      "Precision: 0.030821917808219176 \n",
      "Recall: 0.27692307692307694 \n",
      "f1_score: 0.055469953775038515 \n",
      "roc_auc_curve: 0.5193537943537943 \n",
      "Confusion matrix:\n",
      " [[1810  566]\n",
      " [  47   18]]\n"
     ]
    }
   ],
   "source": [
    "# Evaluating the model performance\n",
    "\n",
    "accuracy = accuracy_score(rf_pred, y_test)\n",
    "precision = precision_score(rf_pred, y_test)\n",
    "recall = recall_score(rf_pred, y_test)\n",
    "f1_score = f1_score(rf_pred, y_test)\n",
    "roc_auc_score = roc_auc_score(rf_pred, y_test)\n",
    "confusion_matrix = confusion_matrix(rf_pred, y_test)\n",
    "\n",
    "print(f'Accuracy: {accuracy} \\nPrecision: {precision} \\nRecall: {recall} \\nf1_score: {f1_score} \\nroc_auc_curve: {roc_auc_score} \\nConfusion matrix:\\n {confusion_matrix}')"
   ]
  },
  {
   "cell_type": "markdown",
   "id": "c66cc1d9",
   "metadata": {},
   "source": [
    "### KNN"
   ]
  },
  {
   "cell_type": "code",
   "execution_count": 63,
   "id": "f6ec541d",
   "metadata": {},
   "outputs": [],
   "source": [
    "knn_classifier = KNeighborsClassifier()\n",
    "knn_classifier.fit(X_train,y_train)\n",
    "knn_pred = knn_classifier.predict(X_test)"
   ]
  },
  {
   "cell_type": "code",
   "execution_count": 68,
   "id": "3ef35dae",
   "metadata": {},
   "outputs": [
    {
     "name": "stdout",
     "output_type": "stream",
     "text": [
      "Accuracy: 0.7140516181892667 \n",
      "Precision: 0.1284246575342466 \n",
      "Recall: 0.2840909090909091 \n",
      "f1_score: 0.1768867924528302 \n",
      "roc_auc_curve: 0.5251414582202364 \n",
      "Confusion matrix:[[1668  509]\n",
      " [ 189   75]]\n"
     ]
    }
   ],
   "source": [
    "# Evaluating the model performance\n",
    "\n",
    "accuracy = accuracy_score(knn_pred, y_test)\n",
    "precision = precision_score(knn_pred, y_test)\n",
    "recall = recall_score(knn_pred, y_test)\n",
    "f1_score = f1_score(knn_pred, y_test)\n",
    "roc_auc_score = roc_auc_score(knn_pred, y_test)\n",
    "confusion_matrix = confusion_matrix(knn_pred, y_test)\n",
    "\n",
    "print(f'Accuracy: {accuracy} \\nPrecision: {precision} \\nRecall: {recall} \\nf1_score: {f1_score} \\nroc_auc_curve: {roc_auc_score} \\nConfusion matrix:{confusion_matrix}')"
   ]
  },
  {
   "cell_type": "code",
   "execution_count": 69,
   "id": "85671945",
   "metadata": {},
   "outputs": [
    {
     "name": "stdout",
     "output_type": "stream",
     "text": [
      "              precision    recall  f1-score   support\n",
      "\n",
      "           0       0.77      0.90      0.83      1857\n",
      "           1       0.28      0.13      0.18       584\n",
      "\n",
      "    accuracy                           0.71      2441\n",
      "   macro avg       0.53      0.51      0.50      2441\n",
      "weighted avg       0.65      0.71      0.67      2441\n",
      "\n"
     ]
    }
   ],
   "source": [
    "print(classification_report(y_test, knn_pred))"
   ]
  },
  {
   "cell_type": "markdown",
   "id": "b027b5a3",
   "metadata": {},
   "source": [
    "### Thank you😊"
   ]
  }
 ],
 "metadata": {
  "kernelspec": {
   "display_name": "Python 3 (ipykernel)",
   "language": "python",
   "name": "python3"
  },
  "language_info": {
   "codemirror_mode": {
    "name": "ipython",
    "version": 3
   },
   "file_extension": ".py",
   "mimetype": "text/x-python",
   "name": "python",
   "nbconvert_exporter": "python",
   "pygments_lexer": "ipython3",
   "version": "3.8.5"
  },
  "toc": {
   "base_numbering": 1,
   "nav_menu": {},
   "number_sections": true,
   "sideBar": true,
   "skip_h1_title": false,
   "title_cell": "Table of Contents",
   "title_sidebar": "Contents",
   "toc_cell": false,
   "toc_position": {},
   "toc_section_display": true,
   "toc_window_display": false
  }
 },
 "nbformat": 4,
 "nbformat_minor": 5
}
